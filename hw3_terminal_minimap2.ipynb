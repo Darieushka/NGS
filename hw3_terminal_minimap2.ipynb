{
 "cells": [
  {
   "cell_type": "code",
   "execution_count": 1,
   "metadata": {},
   "outputs": [
    {
     "name": "stdout",
     "output_type": "stream",
     "text": [
      "[M::mm_idx_gen::0.234*1.05] collected minimizers\n",
      "[M::mm_idx_gen::0.277*1.32] sorted minimizers\n",
      "[M::main::0.364*1.22] loaded/built the index for 1 target sequence(s)\n",
      "[M::mm_idx_stat] kmer size: 15; skip: 10; is_hpc: 0; #seq: 1\n",
      "[M::mm_idx_stat::0.376*1.22] distinct minimizers: 838533 (98.18% are singletons); average occurrences: 1.034; average spacing: 5.352\n",
      "[M::main] Version: 2.16-r922\n",
      "[M::main] CMD: minimap2 -d ref.mmi /Users/dashabalashova/ngs_institute/data/reference.fasta\n",
      "[M::main] Real time: 0.392 sec; CPU: 0.472 sec; Peak RSS: 0.059 GB\n"
     ]
    }
   ],
   "source": [
    "!wget http://spades.bioinf.spbau.ru/students/3/ONT_2D.fastq.gz -O ~/ngs_institute/data/ONT_2D.fastq.gz\n",
    "!wget http://spades.bioinf.spbau.ru/students/3/pacbio_40x.fq.gz -O ~/ngs_institute/data/pacbio_40x.fq.gz\n",
    "!wget http://spades.bioinf.spbau.ru/students/3/reference.fasta -O ~/ngs_institute/data/reference.fasta\n",
    "!gunzip ~/ngs_institute/data/ONT_2D.fastq.gz\n",
    "!gunzip ~/ngs_institute/data/pacbio_40x.fq.gz    \n",
    "    \n",
    "!minimap2 -d ref.mmi ~/ngs_institute/data/reference.fasta"
   ]
  },
  {
   "cell_type": "code",
   "execution_count": 18,
   "metadata": {},
   "outputs": [
    {
     "name": "stdout",
     "output_type": "stream",
     "text": [
      "[M::main::0.115*1.32] loaded/built the index for 1 target sequence(s)\n",
      "[M::mm_mapopt_update::0.130*1.28] mid_occ = 11\n",
      "[M::mm_idx_stat] kmer size: 15; skip: 10; is_hpc: 0; #seq: 1\n",
      "[M::mm_idx_stat::0.141*1.26] distinct minimizers: 838533 (98.18% are singletons); average occurrences: 1.034; average spacing: 5.352\n",
      "[M::worker_pipeline::31.557*2.57] mapped 30810 sequences\n",
      "[M::main] Version: 2.16-r922\n",
      "[M::main] CMD: minimap2 --MD -a ref.mmi /Users/dashabalashova/ngs_institute/data/ONT_2D.fastq\n",
      "[M::main] Real time: 31.601 sec; CPU: 81.292 sec; Peak RSS: 0.924 GB\n"
     ]
    }
   ],
   "source": [
    "!minimap2 --MD -a ref.mmi ~/ngs_institute/data/ONT_2D.fastq > ONT_2D_MD.sam\n",
    "!samtools flagstat ONT_2D_MD.sam\n",
    "!samtools view -S -b ONT_2D_MD.sam > ONT_2D.bam\n",
    "!samtools sort ONT_2D.bam > ONT_2D.sorted.bam\n",
    "!samtools index ONT_2D.sorted.bam\n",
    "!bamCoverage -b ONT_2D.sorted.bam -bs 1000 -o ONT_2D_1000.bw --outFileFormat bedgraph\n",
    "!bamCoverage -b ONT_2D.sorted.bam -bs 1 -o ONT_2D.bw --outFileFormat bedgraph"
   ]
  },
  {
   "cell_type": "code",
   "execution_count": 19,
   "metadata": {},
   "outputs": [
    {
     "name": "stdout",
     "output_type": "stream",
     "text": [
      "[M::main::0.120*1.02] loaded/built the index for 1 target sequence(s)\n",
      "[M::mm_mapopt_update::0.137*1.02] mid_occ = 11\n",
      "[M::mm_idx_stat] kmer size: 15; skip: 10; is_hpc: 0; #seq: 1\n",
      "[M::mm_idx_stat::0.153*1.01] distinct minimizers: 838533 (98.18% are singletons); average occurrences: 1.034; average spacing: 5.352\n",
      "[M::worker_pipeline::113.475*2.38] mapped 41447 sequences\n",
      "[M::main] Version: 2.16-r922\n",
      "[M::main] CMD: minimap2 --MD -a ref.mmi /Users/dashabalashova/ngs_institute/data/pacbio_40x.fq\n",
      "[M::main] Real time: 113.514 sec; CPU: 270.106 sec; Peak RSS: 1.658 GB\n",
      "49743 + 0 in total (QC-passed reads + QC-failed reads)\n",
      "1528 + 0 secondary\n",
      "6768 + 0 supplementary\n",
      "0 + 0 duplicates\n",
      "48434 + 0 mapped (97.37% : N/A)\n",
      "0 + 0 paired in sequencing\n",
      "0 + 0 read1\n",
      "0 + 0 read2\n",
      "0 + 0 properly paired (N/A : N/A)\n",
      "0 + 0 with itself and mate mapped\n",
      "0 + 0 singletons (N/A : N/A)\n",
      "0 + 0 with mate mapped to a different chr\n",
      "0 + 0 with mate mapped to a different chr (mapQ>=5)\n",
      "bamFilesList: ['pacbio_40x.sorted.bam']\n",
      "binLength: 1000\n",
      "numberOfSamples: None\n",
      "blackListFileName: None\n",
      "skipZeroOverZero: False\n",
      "defaultFragmentLength: read length\n",
      "numberOfProcessors: 1\n",
      "verbose: False\n",
      "region: None\n",
      "bedFile: None\n",
      "minMappingQuality: None\n",
      "ignoreDuplicates: False\n",
      "chrsToSkip: []\n",
      "stepSize: 1000\n",
      "center_read: False\n",
      "samFlag_include: None\n",
      "samFlag_exclude: None\n",
      "minFragmentLength: 0\n",
      "maxFragmentLength: 0\n",
      "zerosToNans: False\n",
      "smoothLength: None\n",
      "save_data: False\n",
      "out_file_for_raw_data: None\n",
      "maxPairedFragmentLength: 1000\n",
      "bamFilesList: ['pacbio_40x.sorted.bam']\n",
      "binLength: 1\n",
      "numberOfSamples: None\n",
      "blackListFileName: None\n",
      "skipZeroOverZero: False\n",
      "defaultFragmentLength: read length\n",
      "numberOfProcessors: 1\n",
      "verbose: False\n",
      "region: None\n",
      "bedFile: None\n",
      "minMappingQuality: None\n",
      "ignoreDuplicates: False\n",
      "chrsToSkip: []\n",
      "stepSize: 1\n",
      "center_read: False\n",
      "samFlag_include: None\n",
      "samFlag_exclude: None\n",
      "minFragmentLength: 0\n",
      "maxFragmentLength: 0\n",
      "zerosToNans: False\n",
      "smoothLength: None\n",
      "save_data: False\n",
      "out_file_for_raw_data: None\n",
      "maxPairedFragmentLength: 1000\n"
     ]
    }
   ],
   "source": [
    "!minimap2 --MD -a ref.mmi ~/ngs_institute/data/pacbio_40x.fq > pacbio_40x_MD.sam\n",
    "!samtools flagstat pacbio_40x_MD.sam\n",
    "!samtools view -S -b pacbio_40x_MD.sam > pacbio_40x.bam\n",
    "!samtools sort pacbio_40x.bam > pacbio_40x.sorted.bam\n",
    "!samtools index pacbio_40x.sorted.bam\n",
    "!bamCoverage -b pacbio_40x.sorted.bam -bs 1000 -o pacbio_40x_1000.bw --outFileFormat bedgraph\n",
    "!bamCoverage -b pacbio_40x.sorted.bam -bs 1 -o pacbio_40x.bw --outFileFormat bedgraph"
   ]
  }
 ],
 "metadata": {
  "kernelspec": {
   "display_name": "Python 3",
   "language": "python",
   "name": "python3"
  },
  "language_info": {
   "codemirror_mode": {
    "name": "ipython",
    "version": 3
   },
   "file_extension": ".py",
   "mimetype": "text/x-python",
   "name": "python",
   "nbconvert_exporter": "python",
   "pygments_lexer": "ipython3",
   "version": "3.6.5"
  }
 },
 "nbformat": 4,
 "nbformat_minor": 2
}
