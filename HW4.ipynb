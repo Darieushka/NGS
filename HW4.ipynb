{
 "cells": [
  {
   "cell_type": "code",
   "execution_count": 14,
   "metadata": {},
   "outputs": [
    {
     "name": "stdout",
     "output_type": "stream",
     "text": [
      "--2019-04-01 19:57:21--  http://spades.bioinf.spbau.ru/students/4/ecoli_400K_err_2.fastq.gz\n",
      "Resolving spades.bioinf.spbau.ru (spades.bioinf.spbau.ru)... 194.85.238.21\n",
      "Connecting to spades.bioinf.spbau.ru (spades.bioinf.spbau.ru)|194.85.238.21|:80... connected.\n",
      "HTTP request sent, awaiting response... 200 OK\n",
      "Length: 122167351 (117M) [application/x-gzip]\n",
      "Saving to: <</Users/dashabalashova/0_ngs_institute/data/ecoli_400K_err_2.fastq.gz>>\n",
      "\n",
      "/Users/dashabalasho 100%[===================>] 116.51M  1.18MB/s    in 95s     \n",
      "\n",
      "2019-04-01 19:55:19 (1.23 MB/s) - <</Users/dashabalashova/0_ngs_institute/data/ecoli_400K_err_2.fastq.gz>> saved [122167351/122167351]\n",
      "\n"
     ]
    }
   ],
   "source": [
    "!wget http://spades.bioinf.spbau.ru/students/4/ecoli_400K_err_1.fastq.gz -O ~/ngs_institute/data/ecoli_400K_err_1.fastq.gz\n",
    "!wget http://spades.bioinf.spbau.ru/students/4/ecoli_400K_err_2.fastq.gz -O ~/0_ngs_institute/data/ecoli_400K_err_2.fastq.gz\n",
    "!wget http://spades.bioinf.spbau.ru/students/4/MG1655-K12.first400K.fasta -O ~/ngs_institute/data/MG1655-K12.first400K.fasta\n",
    "!gunzip ~/ngs_institute/data/ecoli_400K_err_1.fastq.gz\n",
    "!gunzip ~/0_ngs_institute/data/ecoli_400K_err_2.fastq.gz    \n",
    "    "
   ]
  },
  {
   "cell_type": "code",
   "execution_count": 138,
   "metadata": {},
   "outputs": [],
   "source": [
    "!spades.py --only-error-correction -1 ~/ngs_institute/data/ecoli_400K_err_1.fastq -2 ~/ngs_institute/data/ecoli_400K_err_2.fastq -o ~/ngs_institute/HW4/output\n",
    "\n",
    "!bowtie2-build ~/ngs_institute/data/MG1655-K12.first400K.fasta MG1655-K12_index\n",
    "!bowtie2 -x MG1655-K12_index -1 ~/0_ngs_institute/data/ecoli_400K_err_1.fastq -2 ~/0_ngs_institute/data/ecoli_400K_err_2.fastq -S ecoli.sam\n",
    "!bowtie2 -x MG1655-K12_index -1 ~/ngs_institute/HW4/output/corrected/ecoli_400K_err_1.00.0_0.cor.fastq -2 ~/ngs_institute/HW4/output/corrected/ecoli_400K_err_2.00.0_0.cor.fastq -S ecoli_cor.sam\n",
    "\n"
   ]
  },
  {
   "cell_type": "code",
   "execution_count": 10,
   "metadata": {},
   "outputs": [],
   "source": [
    "!samtools view -S -b ecoli.sam | samtools sort > ecoli.sorted.bam\n",
    "!samtools index ecoli.sorted.bam\n",
    "\n",
    "!samtools view -S -b ecoli_cor.sam > ecoli_cor.bam\n",
    "!samtools sort ecoli_cor.bam > ecoli_cor.sorted.bam\n",
    "!samtools index ecoli_cor.sorted.bam\n"
   ]
  },
  {
   "cell_type": "code",
   "execution_count": 32,
   "metadata": {},
   "outputs": [
    {
     "name": "stdout",
     "output_type": "stream",
     "text": [
      "250 reads; of these:\r\n",
      "  250 (100.00%) were paired; of these:\r\n",
      "    46 (18.40%) aligned concordantly 0 times\r\n",
      "    199 (79.60%) aligned concordantly exactly 1 time\r\n",
      "    5 (2.00%) aligned concordantly >1 times\r\n",
      "    ----\r\n",
      "    46 pairs aligned concordantly 0 times; of these:\r\n",
      "      0 (0.00%) aligned discordantly 1 time\r\n",
      "    ----\r\n",
      "    46 pairs aligned 0 times concordantly or discordantly; of these:\r\n",
      "      92 mates make up the pairs; of these:\r\n",
      "        55 (59.78%) aligned 0 times\r\n",
      "        37 (40.22%) aligned exactly 1 time\r\n",
      "        0 (0.00%) aligned >1 times\r\n",
      "89.00% overall alignment rate\r\n"
     ]
    }
   ],
   "source": [
    "!bowtie2 -x MG1655-K12_index -1 ecoli_1_1000sample.fastq -2 ecoli_2_1000sample.fastq -S ecoli_1000sample.sam\n",
    "!bowtie2 -x MG1655-K12_index -1 ecoli_1_cor_1000sample.fastq -2 ecoli_2_cor_1000sample.fastq -S ecoli_cor_1000sample.sam\n"
   ]
  },
  {
   "cell_type": "code",
   "execution_count": 31,
   "metadata": {},
   "outputs": [
    {
     "name": "stdout",
     "output_type": "stream",
     "text": [
      "500 + 0 in total (QC-passed reads + QC-failed reads)\r\n",
      "0 + 0 secondary\r\n",
      "0 + 0 supplementary\r\n",
      "0 + 0 duplicates\r\n",
      "499 + 0 mapped (99.80% : N/A)\r\n",
      "500 + 0 paired in sequencing\r\n",
      "250 + 0 read1\r\n",
      "250 + 0 read2\r\n",
      "498 + 0 properly paired (99.60% : N/A)\r\n",
      "498 + 0 with itself and mate mapped\r\n",
      "1 + 0 singletons (0.20% : N/A)\r\n",
      "0 + 0 with mate mapped to a different chr\r\n",
      "0 + 0 with mate mapped to a different chr (mapQ>=5)\r\n"
     ]
    }
   ],
   "source": [
    "!samtools flagstat ecoli_1000sample.sam\n",
    "!samtools view -S -b ecoli_1000sample.sam > ecoli.bam\n",
    "!samtools sort ecoli.bam > ecoli.sorted.bam\n",
    "!samtools index ecoli.sorted.bam"
   ]
  },
  {
   "cell_type": "code",
   "execution_count": 33,
   "metadata": {},
   "outputs": [
    {
     "name": "stdout",
     "output_type": "stream",
     "text": [
      "500 + 0 in total (QC-passed reads + QC-failed reads)\r\n",
      "0 + 0 secondary\r\n",
      "0 + 0 supplementary\r\n",
      "0 + 0 duplicates\r\n",
      "445 + 0 mapped (89.00% : N/A)\r\n",
      "500 + 0 paired in sequencing\r\n",
      "250 + 0 read1\r\n",
      "250 + 0 read2\r\n",
      "408 + 0 properly paired (81.60% : N/A)\r\n",
      "408 + 0 with itself and mate mapped\r\n",
      "37 + 0 singletons (7.40% : N/A)\r\n",
      "0 + 0 with mate mapped to a different chr\r\n",
      "0 + 0 with mate mapped to a different chr (mapQ>=5)\r\n"
     ]
    }
   ],
   "source": [
    "!samtools flagstat ecoli_cor_1000sample.sam\n",
    "!samtools view -S -b ecoli_cor_1000sample.sam > ecoli_cor.bam\n",
    "!samtools sort ecoli_cor.bam > ecoli_cor.sorted.bam\n",
    "!samtools index ecoli_cor.sorted.bam"
   ]
  },
  {
   "cell_type": "code",
   "execution_count": 34,
   "metadata": {},
   "outputs": [
    {
     "name": "stdout",
     "output_type": "stream",
     "text": [
      "fgrep: ecoli_cor_names.txt: No such file or directory\n",
      "samtools view: writing to standard output failed: Broken pipe\n",
      "samtools view: error closing standard output: -1\n",
      "fgrep: ecoli_names.txt: No such file or directory\n",
      "samtools view: writing to standard output failed: Broken pipe\n",
      "samtools view: error closing standard output: -1\n"
     ]
    }
   ],
   "source": [
    "!samtools view ecoli_cor.sorted.bam | fgrep -w -f ecoli_cor_names.txt\n",
    "!samtools view ecoli.sorted.bam | fgrep -w -f ecoli_names.txt"
   ]
  },
  {
   "cell_type": "code",
   "execution_count": 52,
   "metadata": {},
   "outputs": [],
   "source": [
    "!samtools view -F 4 ecoli_cor.sorted.bam | cut -f1 | sort -u > ecoli_cor_names.txt\n",
    "!samtools view -F 4 ecoli.sorted.bam | cut -f1 | sort -u > ecoli_names.txt\n"
   ]
  },
  {
   "cell_type": "code",
   "execution_count": 62,
   "metadata": {},
   "outputs": [],
   "source": [
    "import pysam\n",
    "\n",
    "set1 = set(line.strip()[:-2] for line in open('ecoli_cor_names.txt'))\n",
    "\n",
    "set2 = set(line.strip() for line in open('ecoli_names.txt'))\n",
    "\n",
    "intersection = set1.intersection(set2)\n",
    "\n",
    "\n",
    "\n",
    "  # read names go here\n",
    "bam = pysam.AlignmentFile('ecoli.sorted.bam')\n",
    "obam = pysam.AlignmentFile('ecoli_intersection.bam', \"w\", template=bam)\n",
    "\n",
    "for b in bam.fetch(until_eof=True):\n",
    "    if b.query_name in intersection:\n",
    "        obam.write(b)\n",
    "bam.close()\n",
    "obam.close()\n",
    "\n",
    "bam = pysam.AlignmentFile('ecoli_cor.sorted.bam')\n",
    "obam = pysam.AlignmentFile('ecoli_cor_intersection.bam', \"w\", template=bam)\n",
    "\n",
    "for b in bam.fetch(until_eof=True):\n",
    "    if b.query_name[:-2] in intersection:\n",
    "        obam.write(b)\n",
    "bam.close()\n",
    "obam.close()\n",
    "\n",
    "!samtools sort -n ecoli_intersection.bam -o ecoli_intersection_sorted.bam\n",
    "!samtools sort -n ecoli_cor_intersection.bam -o ecoli_cor_intersection_sorted.bam\n"
   ]
  },
  {
   "cell_type": "code",
   "execution_count": 131,
   "metadata": {},
   "outputs": [
    {
     "name": "stdout",
     "output_type": "stream",
     "text": [
      "true remove = 463866\n",
      "false remove = 3647270\n",
      "true positive = 685132\n",
      "true negative = 215197058\n",
      "false positive = 2021\n",
      "false negative = 220097\n"
     ]
    }
   ],
   "source": [
    "bamfile1 = pysam.AlignmentFile('ecoli_intersection_sorted.bam', 'rb')\n",
    "bamfile2 = pysam.AlignmentFile('ecoli_cor_intersection_sorted.bam', 'rb')\n",
    "NN=0\n",
    "true_rem = 0\n",
    "false_rem = 0\n",
    "true_positive = 0\n",
    "true_negative = 0\n",
    "false_positive = 0\n",
    "false_negative = 0\n",
    "for read in zip(bamfile1,bamfile2):\n",
    "    NN+=1\n",
    "    if read[0].cigarstring!=None and read[1].cigarstring!=None:\n",
    "        N = min(len(read[0].get_reference_sequence()), len(read[1].get_reference_sequence()), len(read[0].query_sequence), len(read[1].query_sequence))\n",
    "        for n in range(0, N):\n",
    "            \n",
    "            if read[0].get_reference_sequence()[n].islower()==1: #error\n",
    "                if read[1].query_sequence[n]=='N':\n",
    "                    true_rem+=1\n",
    "                    #print('true_rem =', true_rem)\n",
    "                elif read[1].get_reference_sequence()[n].islower()==0:\n",
    "                    true_positive+=1\n",
    "                    #print('true positive =', true_positive)\n",
    "                else:\n",
    "                    false_negative+=1\n",
    "                    #print('false negative =', false_negative)\n",
    "            \n",
    "            else:\n",
    "                if read[1].get_reference_sequence()[n].islower()==0:\n",
    "                    true_negative+=1\n",
    "                elif read[1].query_sequence[n]=='N':\n",
    "                    false_rem+=1\n",
    "                    #print('false_rem =', false_rem)\n",
    "                else:\n",
    "                    false_positive+=1\n",
    "                    #print('false positive =', false_positive)\n",
    "        #print(true_rem+true_positive+false_negative+true_negative+false_rem+false_positive)\n",
    "\n",
    "                    \n",
    "#import time\n",
    "#t=time.time()\n",
    "print('true remove =', true_rem)\n",
    "print('false remove =', false_rem)\n",
    "print('true positive =', true_positive)\n",
    "print('true negative =', true_negative)\n",
    "print('false positive =', false_positive)\n",
    "print('false negative =', false_negative)\n",
    "#print((time.time()-t)/60)\n",
    "\n"
   ]
  },
  {
   "cell_type": "code",
   "execution_count": 137,
   "metadata": {},
   "outputs": [],
   "source": [
    "bamfile1 = pysam.AlignmentFile('ecoli_intersection_sorted.bam', 'rb')\n",
    "bamfile2 = pysam.AlignmentFile('ecoli_cor_intersection_sorted.bam', 'rb')\n",
    "NN=0\n",
    "true_rem = 0\n",
    "false_rem = 0\n",
    "true_positive = 0\n",
    "true_negative = 0\n",
    "false_positive = 0\n",
    "false_negative = 0\n",
    "for read in zip(bamfile1,bamfile2):\n",
    "    NN+=1\n",
    "    if NN<10 and read[0].cigarstring!=None and read[1].cigarstring!=None:\n",
    "    #if N<10 and read[0].query_sequence!=read[1].query_sequence and read[0].cigarstring!=None and read[1].cigarstring!=None:\n",
    "        #print(len(read[0].get_reference_sequence()))\n",
    "        #print(len(read[0].get_reference_sequence()))\n",
    "        N = min(len(read[0].get_reference_sequence()), len(read[1].get_reference_sequence()), len(read[0].query_sequence), len(read[1].query_sequence))\n",
    "        #print(N)\n",
    "        K = 0\n",
    "        for n in range(0, N):\n",
    "            \n",
    "            if read[0].get_reference_sequence()[n].islower()==1: #error\n",
    "                if read[1].query_sequence[n]=='N':\n",
    "                    true_rem+=1\n",
    "                    \n",
    "                    #print('true_rem =', true_rem)\n",
    "                elif read[1].get_reference_sequence()[n].islower()==0:\n",
    "                    true_positive+=1\n",
    "                    \n",
    "                    #print('true positive =', true_positive)\n",
    "                else:\n",
    "                    false_negative+=1\n",
    "                    #print('false negative =', false_negative)\n",
    "            \n",
    "            else:\n",
    "                if read[1].get_reference_sequence()[n].islower()==0:\n",
    "                    true_negative+=1\n",
    "                elif read[1].query_sequence[n]=='N':\n",
    "                    false_rem+=1\n",
    "                    #print('false_rem =', false_rem)\n",
    "                else:\n",
    "                    false_positive+=1\n",
    "                    K=1\n",
    "        if K==1:\n",
    "            print(read[0].query_name)\n",
    "            print(read[0].query_sequence)\n",
    "            print(read[0].get_reference_sequence())\n",
    "            print(read[1].query_name)\n",
    "            print(read[1].query_sequence)\n",
    "            print(read[1].get_reference_sequence())"
   ]
  }
 ],
 "metadata": {
  "kernelspec": {
   "display_name": "Python 3",
   "language": "python",
   "name": "python3"
  },
  "language_info": {
   "codemirror_mode": {
    "name": "ipython",
    "version": 3
   },
   "file_extension": ".py",
   "mimetype": "text/x-python",
   "name": "python",
   "nbconvert_exporter": "python",
   "pygments_lexer": "ipython3",
   "version": "3.6.5"
  }
 },
 "nbformat": 4,
 "nbformat_minor": 2
}
