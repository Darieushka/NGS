{
 "cells": [
  {
   "cell_type": "code",
   "execution_count": 7,
   "metadata": {},
   "outputs": [
    {
     "data": {
      "image/png": "[encoded data removed]",
      "text/plain": [
       "<Figure size 432x288 with 1 Axes>"
      ]
     },
     "metadata": {
      "needs_background": "light"
     },
     "output_type": "display_data"
    },
    {
     "name": "stdout",
     "output_type": "stream",
     "text": [
      "average = 187.19839375641425\n",
      "coverage = 0.9966944318480154\n"
     ]
    }
   ],
   "source": [
    "import pysam\n",
    "import pyBigWig\n",
    "from scipy import stats\n",
    "import numpy as np\n",
    "import matplotlib.pyplot as plt\n",
    "from scipy import stats\n",
    "import pandas as pd\n",
    "\n",
    "\n",
    "bw_1000 = open('/Users/dashabalashova/ngs_institute/data/ecoli_mda_1000.bw', 'r')\n",
    "a = []\n",
    "for r in bw_1000.read().splitlines():\n",
    "    a.append(int(r.split('\\t')[-1]))\n",
    "\n",
    "\n",
    "plt.plot(a)\n",
    "plt.show()\n",
    "\n",
    "bw = open('/Users/dashabalashova/ngs_institute/data/ecoli_mda.bw', 'r')\n",
    "a = []\n",
    "for r in bw.read().splitlines():\n",
    "    a.append(int(r.split('\\t')[-1]))\n",
    "\n",
    "print('average =', np.mean(a))\n",
    "print('coverage =', (len(a)-a.count(0))/len(a))"
   ]
  },
  {
   "cell_type": "code",
   "execution_count": 6,
   "metadata": {},
   "outputs": [
    {
     "data": {
      "image/png": "[encoded data removed]",
      "text/plain": [
       "<Figure size 432x288 with 1 Axes>"
      ]
     },
     "metadata": {
      "needs_background": "light"
     },
     "output_type": "display_data"
    },
    {
     "name": "stdout",
     "output_type": "stream",
     "text": [
      "mean = 248.888816208449, sigma = 83.76535242842924\n",
      "confide interval = (84.71174229642293, 413.06589012047505)\n"
     ]
    }
   ],
   "source": [
    "import pysam\n",
    "import pyBigWig\n",
    "from scipy import stats\n",
    "import numpy as np\n",
    "import matplotlib.pyplot as plt\n",
    "from scipy import stats\n",
    "import pandas as pd\n",
    "\n",
    "bamfile = pysam.AlignmentFile('/Users/dashabalashova/ngs_institute/data/ecoli_mda.sorted.bam', 'rb')\n",
    "\n",
    "b=[]\n",
    "for alignment in bamfile.fetch():\n",
    "    if abs(alignment.tlen)>=0 and abs(alignment.tlen)<450:\n",
    "        b.append(abs(alignment.tlen))\n",
    "\n",
    "    \n",
    "plt.hist(b,   bins=30)\n",
    "plt.show()\n",
    "\n",
    "mean, sigma = np.mean(b), np.std(b)\n",
    "\n",
    "conf_int = stats.norm.interval(0.95, loc=mean, \n",
    "    scale=sigma)\n",
    "\n",
    "print('mean = %s, sigma = %s' %(mean , sigma))\n",
    "print('confide interval =', conf_int)"
   ]
  },
  {
   "cell_type": "code",
   "execution_count": 8,
   "metadata": {},
   "outputs": [
    {
     "name": "stdout",
     "output_type": "stream",
     "text": [
      "        A       C       G       T\n",
      "A       0  374021  238194  243090\n",
      "C  755169       0  337720  494420\n",
      "G  489274  331893       0  742680\n",
      "T  242029  238806  369217       0\n"
     ]
    }
   ],
   "source": [
    "import numpy as np\n",
    "import pandas as pd\n",
    "\n",
    "a = np.array([[0,0,0,0],\n",
    "              [0,0,0,0],\n",
    "              [0,0,0,0],\n",
    "              [0,0,0,0]])\n",
    "\n",
    "frame = pd.DataFrame(a, index=['A','C','G','T'], columns=['A','C','G','T'])\n",
    "\n",
    "for alignment in bamfile.fetch():\n",
    "    if (str(alignment).split()[5])!='None':\n",
    "        #print(alignment.get_aligned_pairs(matches_only=True, with_seq=True))\n",
    "        #print(alignment.query_sequence)\n",
    "        #print(alignment.get_reference_sequence())\n",
    "        f=alignment.get_aligned_pairs(matches_only=True, with_seq=True)\n",
    "        for n in range(0,len(f)):\n",
    "            if f[n][2]=='c':\n",
    "                u=alignment.query_alignment_sequence[f[n][0]]\n",
    "                if u in ['A','C','G','T']:                 \n",
    "                    frame['C'][u]+=1\n",
    "            if f[n][2]=='a':\n",
    "                u=alignment.query_alignment_sequence[f[n][0]]\n",
    "                if u in ['A','C','G','T']:\n",
    "                    frame['A'][u]+=1\n",
    "            if f[n][2]=='t':\n",
    "                u=alignment.query_alignment_sequence[f[n][0]]\n",
    "                if u in ['A','C','G','T']:\n",
    "                    frame['T'][u]+=1\n",
    "            if f[n][2]=='g':\n",
    "                u=alignment.query_alignment_sequence[f[n][0]]\n",
    "                if u in ['A','C','G','T']:                \n",
    "                    frame['G'][u]+=1\n",
    "\n",
    "        \n",
    "print(frame)"
   ]
  }
 ],
 "metadata": {
  "kernelspec": {
   "display_name": "Python 3",
   "language": "python",
   "name": "python3"
  },
  "language_info": {
   "codemirror_mode": {
    "name": "ipython",
    "version": 3
   },
   "file_extension": ".py",
   "mimetype": "text/x-python",
   "name": "python",
   "nbconvert_exporter": "python",
   "pygments_lexer": "ipython3",
   "version": "3.6.5"
  }
 },
 "nbformat": 4,
 "nbformat_minor": 2
}
