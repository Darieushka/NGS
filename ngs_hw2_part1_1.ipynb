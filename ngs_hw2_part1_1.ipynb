{
 "cells": [
  {
   "cell_type": "code",
   "execution_count": null,
   "metadata": {},
   "outputs": [],
   "source": [
    "'''cd ~/ngs_institute/data\n",
    "wget http://spades.bioinf.spbau.ru/students/2a/E.coli/100x.1.fastq.gz ; gunzip 100x.1.fastq.gz\n",
    "wget http://spades.bioinf.spbau.ru/students/2a/E.coli/100x.2.fastq.gz ; gunzip 100x.2.fastq.gz\n",
    "bowtie2 -x MG1655-K12_index -1 100x.1.fastq -2 100x.2.fastq -S 100x.sam\n",
    "samtools flagstat 100x.sam\n",
    "samtools view -S -b 100x.sam > 100x.bam\n",
    "samtools sort 100x.bam > 100x.sorted.bam\n",
    "samtools index 100x.sorted.bam\n",
    "bamCoverage -b 100x.sorted.bam -bs 1000 -o 100x_1000.sorted.bw --outFileFormat bedgraph\n",
    "bamCoverage -b 100x.sorted.bam -bs 1 -o 100x.sorted.bw --outFileFormat bedgraph'''"
   ]
  },
  {
   "cell_type": "code",
   "execution_count": 230,
   "metadata": {},
   "outputs": [
    {
     "data": {
      "image/png": "[encoded data removed]",
      "text/plain": [
       "<Figure size 432x288 with 1 Axes>"
      ]
     },
     "metadata": {
      "needs_background": "light"
     },
     "output_type": "display_data"
    },
    {
     "name": "stdout",
     "output_type": "stream",
     "text": [
      "average = 107.49563889612136\n",
      "coverage = 1.0\n"
     ]
    }
   ],
   "source": [
    "import pysam\n",
    "import pyBigWig\n",
    "from scipy import stats\n",
    "import numpy as np\n",
    "import matplotlib.pyplot as plt\n",
    "from scipy import stats\n",
    "import pandas as pd\n",
    "\n",
    "\n",
    "bw_1000 = open('/Users/dashabalashova/ngs_institute/data/100x_1000.sorted.bw', 'r')\n",
    "a = []\n",
    "for r in bw_1000.read().splitlines():\n",
    "    a.append(int(r.split('\\t')[-1]))\n",
    "\n",
    "\n",
    "plt.plot(a)\n",
    "plt.show()\n",
    "\n",
    "bw = open('/Users/dashabalashova/ngs_institute/data/100x.sorted.bw', 'r')\n",
    "a = []\n",
    "for r in bw.read().splitlines():\n",
    "    a.append(int(r.split('\\t')[-1]))\n",
    "\n",
    "print('average =', np.mean(a))\n",
    "print('coverage =', (len(a)-a.count(0))/len(a))"
   ]
  },
  {
   "cell_type": "code",
   "execution_count": 232,
   "metadata": {},
   "outputs": [
    {
     "data": {
      "image/png": "[encoded data removed]",
      "text/plain": [
       "<Figure size 432x288 with 1 Axes>"
      ]
     },
     "metadata": {
      "needs_background": "light"
     },
     "output_type": "display_data"
    },
    {
     "name": "stdout",
     "output_type": "stream",
     "text": [
      "mean =213.99012758962846, sigma =19.979470042856665\n",
      "confide interval = (174.83108587543245, 253.14916930382446)\n"
     ]
    }
   ],
   "source": [
    "\n",
    "bamfile = pysam.AlignmentFile('/Users/dashabalashova/ngs_institute/data/100x.sorted.sam', 'rb')\n",
    "\n",
    "b=[]\n",
    "for alignment in bamfile.fetch():\n",
    "    if abs(alignment.tlen)>=0 and abs(alignment.tlen)<300:\n",
    "        b.append(abs(alignment.tlen))\n",
    "\n",
    "    \n",
    "plt.hist(b,   bins=30)\n",
    "plt.show()\n",
    "\n",
    "mean, sigma = np.mean(b), np.std(b)\n",
    "\n",
    "conf_int = stats.norm.interval(0.95, loc=mean, \n",
    "    scale=sigma)\n",
    "\n",
    "print('mean =%s, sigma =%s' %(mean , sigma))\n",
    "print('confide interval =', conf_int)"
   ]
  },
  {
   "cell_type": "code",
   "execution_count": 223,
   "metadata": {},
   "outputs": [
    {
     "name": "stdout",
     "output_type": "stream",
     "text": [
      "         A       C       G        T\n",
      "A        0  547886  356067   330422\n",
      "C  1103106       0  630990   752650\n",
      "G   757057  630877       0  1100735\n",
      "T   328867  350930  548661        0\n"
     ]
    }
   ],
   "source": [
    "import numpy as np\n",
    "import pandas as pd\n",
    "\n",
    "a = np.array([[0,0,0,0],\n",
    "              [0,0,0,0],\n",
    "              [0,0,0,0],\n",
    "              [0,0,0,0]])\n",
    "\n",
    "frame = pd.DataFrame(a, index=['A','C','G','T'], columns=['A','C','G','T'])\n",
    "\n",
    "for alignment in bamfile.fetch():\n",
    "    if (str(alignment).split()[5])!='None':\n",
    "        #print(alignment.get_aligned_pairs(matches_only=True, with_seq=True))\n",
    "        #print(alignment.query_sequence)\n",
    "        #print(alignment.get_reference_sequence())\n",
    "        f=alignment.get_aligned_pairs(matches_only=True, with_seq=True)\n",
    "        for n in range(0,len(f)):\n",
    "            if f[n][2]=='c':\n",
    "                u=alignment.query_alignment_sequence[f[n][0]]\n",
    "                if u in ['A','C','G','T']:                 \n",
    "                    frame['C'][u]+=1\n",
    "            if f[n][2]=='a':\n",
    "                u=alignment.query_alignment_sequence[f[n][0]]\n",
    "                if u in ['A','C','G','T']:\n",
    "                    frame['A'][u]+=1\n",
    "            if f[n][2]=='t':\n",
    "                u=alignment.query_alignment_sequence[f[n][0]]\n",
    "                if u in ['A','C','G','T']:\n",
    "                    frame['T'][u]+=1\n",
    "            if f[n][2]=='g':\n",
    "                u=alignment.query_alignment_sequence[f[n][0]]\n",
    "                if u in ['A','C','G','T']:                \n",
    "                    frame['G'][u]+=1\n",
    "\n",
    "        \n",
    "print(frame)"
   ]
  }
 ],
 "metadata": {
  "kernelspec": {
   "display_name": "Python 3",
   "language": "python",
   "name": "python3"
  },
  "language_info": {
   "codemirror_mode": {
    "name": "ipython",
    "version": 3
   },
   "file_extension": ".py",
   "mimetype": "text/x-python",
   "name": "python",
   "nbconvert_exporter": "python",
   "pygments_lexer": "ipython3",
   "version": "3.6.5"
  }
 },
 "nbformat": 4,
 "nbformat_minor": 2
}
